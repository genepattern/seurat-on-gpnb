{
 "cells": [
  {
   "cell_type": "markdown",
   "metadata": {},
   "source": [
    "<div class=\"well well-sm\">\n",
    "    \n",
    "**Note**: This notebook mimics the Seurat Clustering tutorial up to the point where UMAP is called\n",
    "    \n",
    "    https://satijalab.org/seurat/v3.1/pbmc3k_tutorial.html\n",
    "</div>"
   ]
  },
  {
   "cell_type": "markdown",
   "metadata": {},
   "source": [
    "# To do:\n",
    "- set `%%R -w 800 -h 450` as the default"
   ]
  },
  {
   "cell_type": "code",
   "execution_count": 21,
   "metadata": {
    "nbtools": {
     "description": "Setup the R and Python environments for the rest of this notebook. Downloads the example dataset to the notebook server.",
     "name": "Notebook Setup",
     "origin": "Notebook",
     "param_values": {
      "output_var": ""
     },
     "show_code": true,
     "type": "uibuilder"
    }
   },
   "outputs": [
    {
     "name": "stdout",
     "output_type": "stream",
     "text": [
      "The nbtools.r_support extension is already loaded. To reload it, use:\n",
      "  %reload_ext nbtools.r_support\n"
     ]
    },
    {
     "data": {
      "application/vnd.jupyter.widget-view+json": {
       "model_id": "d8985e198b204755997f72da326d4833",
       "version_major": 2,
       "version_minor": 0
      },
      "text/plain": [
       "UIBuilder(description='Setup the R and Python environments for the rest of this notebook. Downloads the exampl…"
      ]
     },
     "metadata": {},
     "output_type": "display_data"
    },
    {
     "data": {
      "application/javascript": [
       "\n",
       "            NBToolManager.instance().register(new NBToolManager.NBTool({\n",
       "                origin: \"Notebook\",\n",
       "                id: \"Notebook Setup\",\n",
       "                name: \"Notebook Setup\",\n",
       "                description: \"Setup the R and Python environments for the rest of this notebook. Downloads the example dataset to the notebook server.\",\n",
       "                version: \"null\",\n",
       "                tags: null,\n",
       "                attributes: null,\n",
       "                load: function() { return true; },\n",
       "                render: function() { let code = \"nbtools.tool(id='Notebook Setup', origin='Notebook')\";\n",
       "                let cell = Jupyter.notebook.get_selected_cell();\n",
       "                const is_empty = cell.get_text().trim() === \"\";\n",
       "\n",
       "                // If this cell is not empty, insert a new cell and use that\n",
       "                // Otherwise just use this cell\n",
       "                if (!is_empty) {\n",
       "                    cell = Jupyter.notebook.insert_cell_below();\n",
       "                    Jupyter.notebook.select_next();\n",
       "                }\n",
       "\n",
       "                cell.set_text(code);\n",
       "                cell.execute();\n",
       "\n",
       "                return cell; },\n",
       "            }));"
      ]
     },
     "metadata": {},
     "output_type": "display_data"
    }
   ],
   "source": [
    "import os \n",
    "import urllib.request\n",
    "import subprocess\n",
    "import rpy2\n",
    "%load_ext nbtools.r_support\n",
    "\n",
    "# for setting default plot size see\n",
    "# https://stackoverflow.com/questions/40745163/jupyter-notebook-rpy2-rmagics-how-to-set-the-default-plot-size\n",
    "# but its prettybrittle - fails if you call it twice or change after the function is set\n",
    "\n",
    "\n",
    "\n",
    "\n",
    "@genepattern.build_ui(name=\"Notebook Setup\", description=\"Setup the R and Python environments for the rest of this notebook. Downloads the example dataset to the notebook server.\", \n",
    "                      parameters={\n",
    "                            \"output_var\": {\n",
    "                                \"hide\": True,\n",
    "                            }\n",
    "})\n",
    "def notebook_setup():\n",
    "    %load_ext rpy2.ipython\n",
    "    import seaborn as sns\n",
    "    sns.set(rc={'figure.figsize':(8,4.5)})\n",
    "    os.makedirs('data/pbmc3k/', exist_ok=True)\n",
    "    url = 'https://s3-us-west-2.amazonaws.com/10x.files/samples/cell/pbmc3k/pbmc3k_filtered_gene_bc_matrices.tar.gz'\n",
    "    urllib.request.urlretrieve(url, 'data/pbmc3k/pbmc3k_filtered_gene_bc_matrices.tar.gz')\n",
    "\n",
    "    subprocess.run([\"tar\", \"-xvf\", \"data/pbmc3k/pbmc3k_filtered_gene_bc_matrices.tar.gz\",\n",
    "                \"--directory\", \"data/pbmc3k/\" ])\n",
    "    \n",
    "    \n",
    "    print(\"Done.\")\n"
   ]
  },
  {
   "cell_type": "markdown",
   "metadata": {},
   "source": [
    "<div id=\"header\" class=\"fluid-row\" style=\"color: #333333; font-family: 'open sans' , 'arial' , sans-serif; font-size: 14px;\">\n",
    "<h1 id=\"Seurat---Guided-Clustering-Tutorial\" class=\"title toc-ignore\" style=\"margin-top: 20px; margin-bottom: 10px; font-size: 38px; padding: 0px; font-family: 'ubuntu' , 'tahoma' , 'helvetica neue' , 'helvetica' , 'arial' , sans-serif;\" data-toc-modified-id=\"Seurat---Guided-Clustering-Tutorial-2\"><a id=\"Seurat---Guided-Clustering-Tutorial-2\" class=\"toc-mod-link\"></a>Seurat - Guided Clustering Tutorial</h1>\n",
    "<h4 id=\"Compiled:-October-08,-2019\" class=\"date\" style=\"margin: 10px 0px; font-size: 18px; padding: 0px; font-family: 'ubuntu' , 'tahoma' , 'helvetica neue' , 'helvetica' , 'arial' , sans-serif;\" data-toc-modified-id=\"Compiled:-October-08,-2019-2.0.0.1\"><a id=\"Compiled:-October-08,-2019-2.0.0.1\" class=\"toc-mod-link\"></a>Compiled: October 08, 2019</h4>\n",
    "</div>\n",
    "<hr style=\"overflow: visible; margin: 20px 0px; padding: 0px; color: #333333; font-family: 'open sans' , 'arial' , sans-serif; font-size: 14px;\" />\n",
    "<div id=\"setup-the-seurat-object\" class=\"section level3\" style=\"color: #333333; font-family: 'open sans' , 'arial' , sans-serif; font-size: 14px;\">\n",
    "<h3 id=\"Setup-the-Seurat-Object\" style=\"margin: 20px 0px 10px; font-size: 26px; padding: 0px; font-family: 'ubuntu' , 'tahoma' , 'helvetica neue' , 'helvetica' , 'arial' , sans-serif;\" data-toc-modified-id=\"Setup-the-Seurat-Object-2.0.1\"><a id=\"Setup-the-Seurat-Object-2.0.1\" class=\"toc-mod-link\"></a>Setup the Seurat Object</h3>\n",
    "<p style=\"margin-bottom: 10px; padding: 0px; color: #373d3f; font-size: 16px; text-align: justify;\">For this tutorial, we will be analyzing the a dataset of <span style=\"text-decoration: underline;\"><strong>Peripheral Blood Mononuclear Cells (PBMC)</strong></span> freely available from 10X Genomics. There are 2,700 single cells that were sequenced on the Illumina NextSeq 500. The raw data was downloaed as part of the \"Notebook Setup\" cell (above) and the original files can be found&nbsp;<a style=\"color: #dd4814;\" href=\"https://s3-us-west-2.amazonaws.com/10x.files/samples/cell/pbmc3k/pbmc3k_filtered_gene_bc_matrices.tar.gz\" target=\"_blank\" rel=\"noopener\">here</a>.</p>\n",
    "\n",
    "</div>"
   ]
  },
  {
   "cell_type": "markdown",
   "metadata": {},
   "source": [
    "<p style=\"margin-bottom: 10px; padding: 0px; color: #373d3f; font-size: 16px; text-align: justify;\">\n",
    "The three files for this dataset include\n",
    "<ul><li>matrix.mtx - triples of gene ID, cell barcode, UMI count . </li>\n",
    "    <li>barcodes.tsv - the barcodes represented in the mtx file.</li>\n",
    "    <li>genes.tsv - all the annotated genes, one per row.</li>\n",
    "</ul>\n",
    "</p>\n",
    "<p style=\"margin-bottom: 10px; padding: 0px; color: #373d3f; font-size: 16px; text-align: justify;\">\n",
    "Details of the file formats can be found on the <a href=\"https://kb.10xgenomics.com/hc/en-us/articles/115000794686-How-is-the-MEX-format-used-for-the-gene-barcode-matrices-\">10X Genomics knowledge base</a>.  You can run the following cell to see the first few lines of each of these files.\n",
    "</p>"
   ]
  },
  {
   "cell_type": "code",
   "execution_count": 44,
   "metadata": {
    "nbtools": {
     "description": "Shows the first N lines of the 3 10X Genomics PBMC data files",
     "name": "Show File Heads",
     "origin": "Notebook",
     "param_values": {
      "N": "5",
      "output_var": ""
     },
     "show_code": false,
     "type": "uibuilder"
    }
   },
   "outputs": [
    {
     "data": {
      "application/vnd.jupyter.widget-view+json": {
       "model_id": "9979f06712f14a18816f8177b27a090c",
       "version_major": 2,
       "version_minor": 0
      },
      "text/plain": [
       "UIBuilder(description='Shows the first N lines of the 3 10X Genomics PBMC data files', function_import='nbtool…"
      ]
     },
     "metadata": {},
     "output_type": "display_data"
    },
    {
     "data": {
      "application/javascript": [
       "\n",
       "            NBToolManager.instance().register(new NBToolManager.NBTool({\n",
       "                origin: \"Notebook\",\n",
       "                id: \"Show File Heads\",\n",
       "                name: \"Show File Heads\",\n",
       "                description: \"Shows the first N lines of the 3 10X Genomics PBMC data files\",\n",
       "                version: \"null\",\n",
       "                tags: null,\n",
       "                attributes: null,\n",
       "                load: function() { return true; },\n",
       "                render: function() { let code = \"nbtools.tool(id='Show File Heads', origin='Notebook')\";\n",
       "                let cell = Jupyter.notebook.get_selected_cell();\n",
       "                const is_empty = cell.get_text().trim() === \"\";\n",
       "\n",
       "                // If this cell is not empty, insert a new cell and use that\n",
       "                // Otherwise just use this cell\n",
       "                if (!is_empty) {\n",
       "                    cell = Jupyter.notebook.insert_cell_below();\n",
       "                    Jupyter.notebook.select_next();\n",
       "                }\n",
       "\n",
       "                cell.set_text(code);\n",
       "                cell.execute();\n",
       "\n",
       "                return cell; },\n",
       "            }));"
      ]
     },
     "metadata": {},
     "output_type": "display_data"
    }
   ],
   "source": [
    "from itertools import islice\n",
    "\n",
    "\n",
    "@genepattern.build_ui( name=\"Show File Heads\", description=\"Shows the first N lines of the 3 10X Genomics PBMC data files\", \n",
    "                      parameters={\n",
    "                            \"N\": {\"default\": \"5\"},\n",
    "                            \"output_var\": {\n",
    "                                \"hide\": True,\n",
    "                            }\n",
    "})\n",
    "def showHeadOfFiles(N):\n",
    "    print(\"File:  data/pbmc3k/filtered_gene_bc_matrices/hg19/Matrix.mtx\\n\")\n",
    "    with open(\"data/pbmc3k/filtered_gene_bc_matrices/hg19/matrix.mtx\") as f:\n",
    "        for line in islice(f, N):\n",
    "            print(\"\\t\"+line)\n",
    "    print(\"\\nFile:  data/pbmc3k/filtered_gene_bc_matrices/hg19/barcodes.tsv\\n\")\n",
    "    with open(\"data/pbmc3k/filtered_gene_bc_matrices/hg19/barcodes.tsv\") as f:\n",
    "        for line in islice(f, N):\n",
    "            print(\"\\t\"+line)\n",
    "    print(\"\\nFile: data/pbmc3k/filtered_gene_bc_matrices/hg19/genes.tsv\\n\")\n",
    "    with open(\"data/pbmc3k/filtered_gene_bc_matrices/hg19/genes.tsv\") as f:\n",
    "        for line in islice(f, N):\n",
    "            print(\"\\t\" + line)\n",
    "        "
   ]
  },
  {
   "cell_type": "markdown",
   "metadata": {},
   "source": [
    "\n",
    "<p style=\"margin-bottom: 10px; padding: 0px; color: #373d3f; font-size: 16px; text-align: justify;\">Fundamentally, Seurat starts with a feature (e.g. gene) expression matrix. The expected format of the input matrix is features x cells.  While in this example we are creating that matrix from the 10X Genomics files, there are too many ways to create a gene expression matrix in R to enumerate them all here.</p>\n",
    "\n",
    "<p style=\"margin-bottom: 10px; padding: 0px; color: #373d3f; font-size: 16px; text-align: justify;\">We start by reading in the data. The&nbsp;<code style=\"font-size: 14.4px; color: inherit; border: 1px solid #9ba4a7; border-radius: 4px; background-color: rgba(0 , 0 , 0 , 0.04); white-space: pre;\">Read10X</code>&nbsp;function reads in the output of the&nbsp;<a style=\"color: #dd4814;\" href=\"https://support.10xgenomics.com/single-cell-gene-expression/software/pipelines/latest/what-is-cell-ranger\" target=\"_blank\" rel=\"noopener\">cellranger</a>&nbsp;pipeline from 10X, returning a unique molecular identified (UMI) count matrix. The values in this matrix represent the number of molecules for each feature (i.e.&nbsp;gene; row) that are detected in each cell (column).</p>\n",
    "\n",
    "<p style=\"margin-bottom: 10px; padding: 0px; color: #373d3f; font-size: 16px; text-align: justify;\">We next use the count matrix to create a&nbsp;<code style=\"font-size: 14.4px; color: inherit; border: 1px solid #9ba4a7; border-radius: 4px; background-color: rgba(0 , 0 , 0 , 0.04); white-space: pre;\">Seurat</code>&nbsp;object. The object serves as a container that contains both data (like the count matrix) and analysis (like PCA, or clustering results) for a single-cell dataset. For a technical discussion of the&nbsp;<code style=\"font-size: 14.4px; color: inherit; border: 1px solid #9ba4a7; border-radius: 4px; background-color: rgba(0 , 0 , 0 , 0.04); white-space: pre;\">Seurat</code>&nbsp;object structure, check out our&nbsp;<a style=\"color: #dd4814;\" href=\"https://github.com/satijalab/seurat/wiki\" target=\"_blank\" rel=\"noopener\">GitHub Wiki</a>. For example, the count matrix is stored in&nbsp;<code style=\"font-size: 14.4px; color: inherit; border: 1px solid #9ba4a7; border-radius: 4px; background-color: rgba(0 , 0 , 0 , 0.04); white-space: pre;\">pbmc[[\"RNA\"]]@counts</code>.</p>"
   ]
  },
  {
   "cell_type": "code",
   "execution_count": 4,
   "metadata": {
    "nbtools": {
     "description": "",
     "name": "Setup Seurat Objects",
     "origin": "nbtools.r_support",
     "param_values": {
      "output_var": ""
     },
     "show_code": true,
     "type": "uibuilder"
    }
   },
   "outputs": [
    {
     "data": {
      "application/vnd.jupyter.widget-view+json": {
       "model_id": "683b524f4606435b84463639b3b948d7",
       "version_major": 2,
       "version_minor": 0
      },
      "text/plain": [
       "UIBuilder(function_import='nbtools._tmp_r_wrapper', name='Setup Seurat Objects', origin='nbtools.r_support', p…"
      ]
     },
     "metadata": {},
     "output_type": "display_data"
    }
   ],
   "source": [
    "%%r_build_ui { \"name\": \"Setup Seurat Objects\", \"parameters\": { \"output_var\": { \"hide\": \"True\" } } }\n",
    "\n",
    "setupR <- function(){\n",
    "    print('Loading libraries')\n",
    "#     library(dplyr)\n",
    "    library(Seurat)\n",
    "    library(scater)\n",
    "    fig_height=450\n",
    "    fig_width=800\n",
    "    # Load the PBMC dataset\n",
    "    print('Loading the dataset.')\n",
    "#     pbmc.data <- Read10X(data.dir = \"data/pbmc3k/filtered_gene_bc_matrices/hg19/\")\n",
    "    \n",
    "    raw_counts <- readSparseCounts(file=\"https://datasets.genepattern.org/data/module_support_files/Conos/HNSCC_noribo.txt\")\n",
    "    hnscc <- CreateSeuratObject(counts = raw_counts, project = \"HNSCC\")\n",
    "    \n",
    "    # Initialize the Seurat object with the raw (non-normalized data).\n",
    "#     pbmc <- CreateSeuratObject(counts = pbmc.data, project = \"pbmc3k\", min.cells = 3, min.features = 200)\n",
    "    print('Done')\n",
    "    return(hnscc)\n",
    "}\n",
    "pbmc <- setupR()"
   ]
  },
  {
   "cell_type": "markdown",
   "metadata": {},
   "source": [
    "<h3 style=\"margin: 20px 0px 10px; font-size: 26px; padding: 0px; font-family: Ubuntu, Tahoma, 'Helvetica Neue', Helvetica, Arial, sans-serif; color: #333333;\">Standard pre-processing workflow</h3>\n",
    "<p style=\"margin-bottom: 10px; padding: 0px; color: #373d3f; font-size: 16px; text-align: justify; font-family: 'Open Sans', arial, sans-serif;\">The steps below encompass the standard pre-processing workflow for scRNA-seq data in Seurat. These represent the selection and filtration of cells based on QC metrics, data normalization and scaling, and the detection of highly variable features.</p>\n",
    "<div id=\"qc-and-selecting-cells-for-further-analysis\" class=\"section level4\" style=\"color: #333333; font-family: 'Open Sans', arial, sans-serif; font-size: 14px;\">\n",
    "<h4 style=\"margin: 10px 0px; font-size: 18px; padding: 0px; font-family: Ubuntu, Tahoma, 'Helvetica Neue', Helvetica, Arial, sans-serif;\">QC and selecting cells for further analysis</h4>\n",
    "<p style=\"margin-bottom: 10px; padding: 0px; color: #373d3f; font-size: 16px; text-align: justify;\">Seurat allows you to easily explore QC metrics and filter cells based on any user-defined criteria. A few QC metrics&nbsp;<a style=\"color: #dd4814; text-decoration-line: underline;\" href=\"https://www.ncbi.nlm.nih.gov/pmc/articles/PMC4758103/\">commonly used</a>&nbsp;by the community include</p>\n",
    "<ul style=\"margin-right: 0px; margin-bottom: 10px; margin-left: 35px; padding: 0px; font-size: 16px;\">\n",
    "<li style=\"margin-bottom: 5px; text-align: justify;\">The number of unique genes detected in each cell.\n",
    "<ul style=\"margin-right: 0px; margin-left: 35px; padding: 0px 0px 0px 15px;\">\n",
    "<li style=\"margin-bottom: 5px; text-align: justify;\">Low-quality cells or empty droplets will often have very few genes</li>\n",
    "<li style=\"margin-bottom: 5px; text-align: justify;\">Cell doublets or multiplets may exhibit an aberrantly high gene count</li>\n",
    "</ul>\n",
    "</li>\n",
    "<li style=\"margin-bottom: 5px; text-align: justify;\">Similarly, the total number of molecules detected within a cell (correlates strongly with unique genes)</li>\n",
    "<li style=\"margin-bottom: 5px; text-align: justify;\">The percentage of reads that map to the mitochondrial genome\n",
    "<ul style=\"margin-right: 0px; margin-left: 35px; padding: 0px 0px 0px 15px;\">\n",
    "<li style=\"margin-bottom: 5px; text-align: justify;\">Low-quality / dying cells often exhibit extensive mitochondrial contamination</li>\n",
    "<li style=\"margin-bottom: 5px; text-align: justify;\">We calculate mitochondrial QC metrics with the&nbsp;<code style=\"font-size: 14.4px; color: inherit; word-break: break-word; border: 1px solid #9ba4a7; border-radius: 4px; background-color: rgba(0, 0, 0, 0.04); white-space: pre;\">PercentageFeatureSet</code>&nbsp;function, which calculates the percentage of counts originating from a set of features</li>\n",
    "<li style=\"margin-bottom: 5px; text-align: justify;\">We use the set of all genes starting with&nbsp;<code style=\"font-size: 14.4px; color: inherit; word-break: break-word; border: 1px solid #9ba4a7; border-radius: 4px; background-color: rgba(0, 0, 0, 0.04); white-space: pre;\">MT-</code>&nbsp;as a set of mitochondrial genes</li>\n",
    "</ul>\n",
    "</li>\n",
    "</ul>\n",
    "</div>"
   ]
  },
  {
   "cell_type": "code",
   "execution_count": 5,
   "metadata": {
    "nbtools": {
     "description": "",
     "name": "Add Mitochondrial QC Metrics",
     "origin": "nbtools.r_support",
     "param_values": {
      "column_name": "percent.mt",
      "output_var": "",
      "pattern": "MT-"
     },
     "show_code": false,
     "type": "uibuilder"
    }
   },
   "outputs": [
    {
     "data": {
      "application/vnd.jupyter.widget-view+json": {
       "model_id": "9e52c3599d4445f6857b560625d8e262",
       "version_major": 2,
       "version_minor": 0
      },
      "text/plain": [
       "UIBuilder(function_import='nbtools._tmp_r_wrapper', name='Add Mitochondrial QC Metrics', origin='nbtools.r_sup…"
      ]
     },
     "metadata": {},
     "output_type": "display_data"
    }
   ],
   "source": [
    "%%r_build_ui { \"name\": \"Add Mitochondrial QC Metrics\", \"parameters\": { \"column_name\": { \"type\": \"string\", \"default\":\"percent.mt\" },\"pattern\": { \"type\": \"string\", \"default\":\"MT-\" }, \"output_var\": { \"hide\": \"True\" } } }\n",
    "\n",
    "set_mito_qc <- function(colName, pat) {\n",
    "    \n",
    "    pattern <- paste(\"^\", trimws(pat, which = \"both\"), sep=\"\")\n",
    "    \n",
    "    # The [[ operator can add columns to object metadata. This is a great place to stash QC stats\n",
    "    pbmc[[colName]] <- PercentageFeatureSet(pbmc, pattern = pattern)\n",
    "    return(pbmc)\n",
    "}\n",
    "\n",
    "\n",
    "pbmc <- set_mito_qc(column_name, pattern)"
   ]
  },
  {
   "cell_type": "markdown",
   "metadata": {},
   "source": [
    "<p style=\"margin-bottom: 10px; padding: 0px; color: #373d3f; font-size: 16px; text-align: justify; font-family: 'Open Sans', arial, sans-serif;\">In the example below, we visualize QC metrics, and use these to filter cells.</p>\n",
    "<ul style=\"margin-right: 0px; margin-bottom: 10px; margin-left: 35px; padding: 0px; font-size: 16px; color: #333333; font-family: 'Open Sans', arial, sans-serif;\">\n",
    "<li style=\"margin-bottom: 5px; text-align: justify;\">We filter cells that have unique feature counts over 2,500 or less than 200</li>\n",
    "<li style=\"margin-bottom: 5px; text-align: justify;\">We filter cells that have &gt;5% mitochondrial counts</li>\n",
    "</ul>"
   ]
  },
  {
   "cell_type": "code",
   "execution_count": 6,
   "metadata": {
    "nbtools": {
     "description": "",
     "name": "Double Violin Plot",
     "origin": "nbtools.r_support",
     "param_values": {
      "first_feature": "nFeature_RNA",
      "output_var": "",
      "param_from_ui_builder": "",
      "second_feature": "nFeature_RNA",
      "third_feature": "percent.mt"
     },
     "show_code": false,
     "type": "uibuilder"
    }
   },
   "outputs": [
    {
     "data": {
      "application/vnd.jupyter.widget-view+json": {
       "model_id": "784d6e3ebb784b958fc5926ce786a82e",
       "version_major": 2,
       "version_minor": 0
      },
      "text/plain": [
       "UIBuilder(function_import='nbtools._tmp_r_wrapper', name='Double Violin Plot', origin='nbtools.r_support', par…"
      ]
     },
     "metadata": {},
     "output_type": "display_data"
    }
   ],
   "source": [
    "%%r_build_ui { \"width\": 10, \"height\": 300, \"name\": \"Double Violin Plot\", \"parameters\": { \"first_feature\": { \"type\": \"string\", \"default\":\"nFeature_RNA\" }, \"second_feature\":{ \"type\": \"string\", \"default\":\"nCount_RNA\"}, \"output_var\":{\"hide\":\"True\"} } } \n",
    "# Visualize QC metrics as a violin plot\n",
    "#VlnPlot(pbmc, features = c(first_feature, second_feature, third_feature), ncol = 3)\n",
    "tripleViolin <- function(first, second){\n",
    "     \n",
    "    feats <- c(first, second)\n",
    "    plot(VlnPlot(pbmc, features = feats, ncol = 2, combine=TRUE), fig.height=5, fig.width=15)\n",
    "    return(\"\")\n",
    "}\n",
    "\n",
    "tripleViolin(first_feature, second_feature)\n"
   ]
  },
  {
   "cell_type": "code",
   "execution_count": 7,
   "metadata": {
    "nbtools": {
     "description": "",
     "name": "Double Scatter Plot",
     "origin": "nbtools.r_support",
     "param_values": {
      "output_var": "",
      "x1": "nCount_RNA",
      "x2": "nCount_RNA",
      "x_axis": "nCount_RNA",
      "y1": "percent.mt",
      "y2": "nFeature_RNA"
     },
     "show_code": false,
     "type": "uibuilder"
    }
   },
   "outputs": [
    {
     "data": {
      "application/vnd.jupyter.widget-view+json": {
       "model_id": "da4f5b103a4e451fb64bb228696bd615",
       "version_major": 2,
       "version_minor": 0
      },
      "text/plain": [
       "UIBuilder(function_import='nbtools._tmp_r_wrapper', name='Double Scatter Plot', origin='nbtools.r_support', pa…"
      ]
     },
     "metadata": {},
     "output_type": "display_data"
    }
   ],
   "source": [
    "%%r_build_ui { \"name\": \"Double Scatter Plot\", \"parameters\": { \"x_axis\": { \"type\": \"String\", \"default\":\"nCount_RNA\" }, \"y2\": {\"type\":\"string\", \"default\":\"nFeature_RNA\" }, \"output_var\": {\"hide\": \"True\"}  } }\n",
    "# %%R -w 800 -h 450\n",
    "# FeatureScatter is typically used to visualize feature-feature relationships, but can be used\n",
    "# for anything calculated by the object, i.e. columns in object metadata, PC scores etc.\n",
    "Feature_Scatter_Plot <- function(first_x, second_y){\n",
    "    plot2 <- FeatureScatter(pbmc, feature1 = first_x, feature2 = second_y)\n",
    "    print(plot2)\n",
    "    return(\"\")\n",
    "}\n",
    "Feature_Scatter_Plot(x_axis,y2)"
   ]
  },
  {
   "cell_type": "markdown",
   "metadata": {},
   "source": [
    "<h3 style=\"margin: 20px 0px 10px; font-size: 26px; padding: 0px; font-family: Ubuntu, Tahoma, 'Helvetica Neue', Helvetica, Arial, sans-serif; color: #333333;\">Normalizing the data</h3>\n",
    "<p style=\"margin-bottom: 10px; padding: 0px; color: #373d3f; font-size: 16px; text-align: justify; font-family: 'Open Sans', arial, sans-serif;\">After removing unwanted cells from the dataset, the next step is to normalize the data. By default, we employ a global-scaling normalization method &ldquo;LogNormalize&rdquo; that normalizes the feature expression measurements for each cell by the total expression, multiplies this by a scale factor (10,000 by default), and log-transforms the result. Normalized values are stored in&nbsp;<code style=\"font-size: 14.4px; color: inherit; word-break: break-word; border: 1px solid #9ba4a7; border-radius: 4px; background-color: rgba(0, 0, 0, 0.04); white-space: pre;\">pbmc[[\"RNA\"]]@data</code>.</p>"
   ]
  },
  {
   "cell_type": "markdown",
   "metadata": {},
   "source": [
    "## THIS SUBSET IS NOT mentioned IN THE SEURAT TUTORIAL -- Need a description?"
   ]
  },
  {
   "cell_type": "markdown",
   "metadata": {},
   "source": [
    "** Filtering data **\n",
    "\n",
    "Here we select which cells and genes we will filter out of our dataset..."
   ]
  },
  {
   "cell_type": "code",
   "execution_count": 8,
   "metadata": {
    "nbtools": {
     "description": "",
     "name": "Subset Data",
     "origin": "nbtools.r_support",
     "param_values": {
      "max_n": "25000",
      "max_n_features": "25000",
      "max_percent_mitochondrial": "5",
      "min_n": "20",
      "min_n_features": "20",
      "output_var": ""
     },
     "show_code": false,
     "type": "uibuilder"
    }
   },
   "outputs": [
    {
     "data": {
      "application/vnd.jupyter.widget-view+json": {
       "model_id": "596cd496c1da49218636f0c061b03a4f",
       "version_major": 2,
       "version_minor": 0
      },
      "text/plain": [
       "UIBuilder(function_import='nbtools._tmp_r_wrapper', name='Subset Data', origin='nbtools.r_support', params=[{'…"
      ]
     },
     "metadata": {},
     "output_type": "display_data"
    }
   ],
   "source": [
    "%%r_build_ui { \"name\": \"Subset Data\", \"parameters\": { \"min_n\": { \"type\": \"numvber\", \"default\":\"20\" },\"max_n\": { \"type\": \"numvber\", \"default\":\"25000\" }, \"output_var\": { \"hide\": \"True\" } } }\n",
    "\n",
    "my_subset <- function(min_n, max_n){\n",
    "    pbmc <- subset(pbmc, subset = nFeature_RNA > min_n & nFeature_RNA < max_n)\n",
    "    return(pbmc)\n",
    "}\n",
    "\n",
    "pbmc <- my_subset(min_n, max_n)"
   ]
  },
  {
   "cell_type": "markdown",
   "metadata": {},
   "source": [
    "### This normalizes"
   ]
  },
  {
   "cell_type": "code",
   "execution_count": 9,
   "metadata": {
    "nbtools": {
     "description": "",
     "name": "Normalize",
     "origin": "nbtools.r_support",
     "param_values": {
      "method": "LogNormalize",
      "output_var": "",
      "scale_factor": "10000"
     },
     "show_code": false,
     "type": "uibuilder"
    }
   },
   "outputs": [
    {
     "data": {
      "application/vnd.jupyter.widget-view+json": {
       "model_id": "cc6578dc9e274838be24b5ae977a55a0",
       "version_major": 2,
       "version_minor": 0
      },
      "text/plain": [
       "UIBuilder(function_import='nbtools._tmp_r_wrapper', name='Normalize', origin='nbtools.r_support', params=[{'na…"
      ]
     },
     "metadata": {},
     "output_type": "display_data"
    }
   ],
   "source": [
    "%%r_build_ui { \"name\": \"Normalize\", \"parameters\": { \"method\": { \"type\": \"string\", \"default\":\"LogNormalize\" },\"scale_factor\": { \"type\": \"number\", \"default\":\"10000\" }, \"output_var\": { \"hide\": \"True\" } } }\n",
    "\n",
    "norm_pbmc <- function(meth, scale){\n",
    "    pbmc <- NormalizeData(pbmc, normalization.method = meth, scale.factor = scale)\n",
    "    return(pbmc)\n",
    "}\n",
    "\n",
    "pbmc <- norm_pbmc(method, scale_factor)"
   ]
  },
  {
   "cell_type": "markdown",
   "metadata": {},
   "source": [
    "<h3 style=\"margin: 20px 0px 10px; font-size: 26px; padding: 0px; font-family: Ubuntu, Tahoma, 'Helvetica Neue', Helvetica, Arial, sans-serif; color: #333333;\">Identification of highly variable features (feature selection)</h3>\n",
    "<p style=\"margin-bottom: 10px; padding: 0px; color: #373d3f; font-size: 16px; text-align: justify; font-family: 'Open Sans', arial, sans-serif;\">We next calculate a subset of features that exhibit high cell-to-cell variation in the dataset (i.e, they are highly expressed in some cells, and lowly expressed in others). We and&nbsp;<a style=\"color: #dd4814; text-decoration-line: underline;\" href=\"https://www.nature.com/articles/nmeth.2645\">others</a>&nbsp;have found that focusing on these genes in downstream analysis helps to highlight biological signal in single-cell datasets.</p>\n",
    "<p style=\"margin-bottom: 10px; padding: 0px; color: #373d3f; font-size: 16px; text-align: justify; font-family: 'Open Sans', arial, sans-serif;\">Our procedure in Seurat3 is described in detail&nbsp;<a style=\"color: #dd4814; text-decoration-line: underline;\" href=\"https://www.biorxiv.org/content/early/2018/11/02/460147.full.pdf\">here</a>, and improves on previous versions by directly modeling the mean-variance relationship inherent in single-cell data, and is implemented in the&nbsp;<code style=\"font-size: 14.4px; color: inherit; word-break: break-word; border: 1px solid #9ba4a7; border-radius: 4px; background-color: rgba(0, 0, 0, 0.04); white-space: pre;\">FindVariableFeatures</code>&nbsp;function. By default, we return 2,000 features per dataset. These will be used in downstream analysis, like PCA.</p>"
   ]
  },
  {
   "cell_type": "code",
   "execution_count": 10,
   "metadata": {
    "nbtools": {
     "description": "",
     "name": "Feature Selection",
     "origin": "nbtools.r_support",
     "param_values": {
      "method": "vst",
      "num_features": "2000",
      "num_to_label": "20",
      "output_var": ""
     },
     "show_code": false,
     "type": "uibuilder"
    },
    "scrolled": false
   },
   "outputs": [
    {
     "data": {
      "application/vnd.jupyter.widget-view+json": {
       "model_id": "3cff05ef581447c882506aa767917108",
       "version_major": 2,
       "version_minor": 0
      },
      "text/plain": [
       "UIBuilder(function_import='nbtools._tmp_r_wrapper', name='Feature Selection', origin='nbtools.r_support', para…"
      ]
     },
     "metadata": {},
     "output_type": "display_data"
    }
   ],
   "source": [
    "%%r_build_ui { \"name\": \"Feature Selection\", \"parameters\": { \"method\": { \"type\": \"string\", \"default\":\"vst\" },\"num_features\": { \"type\": \"number\", \"default\":\"2000\" }, \"num_to_label\":{\"type\": \"number\", \"default\": \"10\", \"description\": \"label the top N features in the plot.\"}, \"output_var\": { \"hide\": \"True\" } } }\n",
    "#%%R -w 800 -h 450\n",
    "\n",
    "feat_sel_plot <- function(meth, nFeat, nLabel){\n",
    "    pbmc <- FindVariableFeatures(pbmc, selection.method = \"vst\", nfeatures = 2000)\n",
    "\n",
    "    # Identify the 10 most highly variable genes\n",
    "    top10 <- head(VariableFeatures(pbmc), 10)\n",
    "\n",
    "    # plot variable features with and without labels\n",
    "    plot1 <- VariableFeaturePlot(pbmc)\n",
    "    plot2 <- LabelPoints(plot = plot1, points = top10, repel = TRUE)\n",
    "    print(plot2)\n",
    "    #plot(CombinePlots(plots = list(plot1, plot2)))\n",
    "    return(pbmc)\n",
    "}\n",
    "\n",
    "pbmc <- feat_sel_plot(method, num_features, num_to_label)"
   ]
  },
  {
   "cell_type": "markdown",
   "metadata": {},
   "source": [
    "<h3 style=\"margin: 20px 0px 10px; font-size: 26px; padding: 0px; font-family: Ubuntu, Tahoma, 'Helvetica Neue', Helvetica, Arial, sans-serif; color: #333333;\">Scaling the data</h3>\n",
    "<p style=\"margin-bottom: 10px; padding: 0px; color: #373d3f; font-size: 16px; text-align: justify; font-family: 'Open Sans', arial, sans-serif;\">Next, we apply a linear transformation (&lsquo;scaling&rsquo;) that is a standard pre-processing step prior to dimensional reduction techniques like PCA. The&nbsp;<code style=\"font-size: 14.4px; color: inherit; word-break: break-word; border: 1px solid #9ba4a7; border-radius: 4px; background-color: rgba(0, 0, 0, 0.04); white-space: pre;\">ScaleData</code>&nbsp;function:</p>\n",
    "<ul style=\"margin-right: 0px; margin-bottom: 10px; margin-left: 35px; padding: 0px; font-size: 16px; color: #333333; font-family: 'Open Sans', arial, sans-serif;\">\n",
    "<li style=\"margin-bottom: 5px; text-align: justify;\">Shifts the expression of each gene, so that the mean expression across cells is 0</li>\n",
    "<li style=\"margin-bottom: 5px; text-align: justify;\">Scales the expression of each gene, so that the variance across cells is 1\n",
    "<ul style=\"margin-right: 0px; margin-left: 35px; padding: 0px 0px 0px 15px;\">\n",
    "<li style=\"margin-bottom: 5px; text-align: justify;\">This step gives equal weight in downstream analyses, so that highly-expressed genes do not dominate</li>\n",
    "</ul>\n",
    "</li>\n",
    "<li style=\"margin-bottom: 5px; text-align: justify;\">The results of this are stored in&nbsp;<code style=\"font-size: 14.4px; color: inherit; word-break: break-word; border: 1px solid #9ba4a7; border-radius: 4px; background-color: rgba(0, 0, 0, 0.04); white-space: pre;\">pbmc[[\"RNA\"]]@scale.data</code></li>\n",
    "</ul>"
   ]
  },
  {
   "cell_type": "code",
   "execution_count": 11,
   "metadata": {
    "nbtools": {
     "description": "",
     "name": "Scale Data",
     "origin": "nbtools.r_support",
     "param_values": {
      "output_var": ""
     },
     "show_code": false,
     "type": "uibuilder"
    }
   },
   "outputs": [
    {
     "data": {
      "application/vnd.jupyter.widget-view+json": {
       "model_id": "55d0bdd9a4cd485e87bbe28e7cb31b30",
       "version_major": 2,
       "version_minor": 0
      },
      "text/plain": [
       "UIBuilder(function_import='nbtools._tmp_r_wrapper', name='Scale Data', origin='nbtools.r_support', params=[{'n…"
      ]
     },
     "metadata": {},
     "output_type": "display_data"
    }
   ],
   "source": [
    "%%r_build_ui {\"name\": \"Scale Data\", \"parameters\": {\"output_var\":{\"hide\": \"True\"}}}\n",
    "myscale <- function(pbmc){\n",
    "    all.genes <- rownames(pbmc)\n",
    "    pbmc <- ScaleData(pbmc, features = all.genes)\n",
    "    return(pbmc)\n",
    "}\n",
    "pbmc <- myscale(pbmc)"
   ]
  },
  {
   "cell_type": "markdown",
   "metadata": {},
   "source": [
    "<h3 style=\"margin: 20px 0px 10px; font-size: 26px; padding: 0px; font-family: Ubuntu, Tahoma, 'Helvetica Neue', Helvetica, Arial, sans-serif; color: #333333;\">Perform linear dimensional reduction</h3>\n",
    "<p style=\"margin-bottom: 10px; padding: 0px; color: #373d3f; font-size: 16px; text-align: justify; font-family: 'Open Sans', arial, sans-serif;\">Next we perform PCA on the scaled data. By default, only the previously determined variable features are used as input, but can be defined using&nbsp;<code style=\"font-size: 14.4px; color: inherit; word-break: break-word; border: 1px solid #9ba4a7; border-radius: 4px; background-color: rgba(0, 0, 0, 0.04); white-space: pre;\">features</code>&nbsp;argument if you wish to choose a different subset.</p>"
   ]
  },
  {
   "cell_type": "code",
   "execution_count": 12,
   "metadata": {
    "nbtools": {
     "description": "",
     "name": "Perform PCA",
     "origin": "nbtools.r_support",
     "param_values": {
      "output_var": ""
     },
     "show_code": false,
     "type": "uibuilder"
    },
    "scrolled": false
   },
   "outputs": [
    {
     "data": {
      "application/vnd.jupyter.widget-view+json": {
       "model_id": "ee964db61a8343969e396c2a33ea7f58",
       "version_major": 2,
       "version_minor": 0
      },
      "text/plain": [
       "UIBuilder(function_import='nbtools._tmp_r_wrapper', name='Perform PCA', origin='nbtools.r_support', params=[{'…"
      ]
     },
     "metadata": {},
     "output_type": "display_data"
    }
   ],
   "source": [
    "%%r_build_ui {\"name\":\"Perform PCA\", \"parameters\":{\"output_var\":{\"hide\":\"True\"}}}\n",
    "\n",
    "mypca <-function(pbmc){ \n",
    "    feats <- VariableFeatures(object = pbmc)\n",
    "    pbmc <-RunPCA(pbmc, features = feats, nfeatures.print=5)\n",
    "   \n",
    "    return(pbmc)\n",
    "}\n",
    "pbmc <- mypca(pbmc)"
   ]
  },
  {
   "cell_type": "markdown",
   "metadata": {},
   "source": [
    "<p><span style=\"color: #373d3f; font-family: 'Open Sans', arial, sans-serif; font-size: 16px; text-align: justify;\">Seurat provides several useful ways of visualizing both cells and features that define the PCA, including&nbsp;</span><code style=\"font-size: 14.4px; color: #373d3f; word-break: break-word; border: 1px solid #9ba4a7; border-radius: 4px; background-color: rgba(0, 0, 0, 0.04); white-space: pre; text-align: justify;\">VizDimReduction</code><span style=\"color: #373d3f; font-family: 'Open Sans', arial, sans-serif; font-size: 16px; text-align: justify;\">,&nbsp;</span><code style=\"font-size: 14.4px; color: #373d3f; word-break: break-word; border: 1px solid #9ba4a7; border-radius: 4px; background-color: rgba(0, 0, 0, 0.04); white-space: pre; text-align: justify;\">DimPlot</code><span style=\"color: #373d3f; font-family: 'Open Sans', arial, sans-serif; font-size: 16px; text-align: justify;\">, and&nbsp;</span><code style=\"font-size: 14.4px; color: #373d3f; word-break: break-word; border: 1px solid #9ba4a7; border-radius: 4px; background-color: rgba(0, 0, 0, 0.04); white-space: pre; text-align: justify;\">DimHeatmap</code></p>"
   ]
  },
  {
   "cell_type": "code",
   "execution_count": 13,
   "metadata": {
    "nbtools": {
     "description": "",
     "name": "Examine Features",
     "origin": "nbtools.r_support",
     "param_values": {
      "dims": "1:5",
      "num_dims": "2",
      "num_features": "7",
      "output_var": ""
     },
     "show_code": false,
     "type": "uibuilder"
    }
   },
   "outputs": [
    {
     "data": {
      "application/vnd.jupyter.widget-view+json": {
       "model_id": "e1cbb6ce952243f0825c4ad908f0c939",
       "version_major": 2,
       "version_minor": 0
      },
      "text/plain": [
       "UIBuilder(function_import='nbtools._tmp_r_wrapper', name='Examine Features', origin='nbtools.r_support', param…"
      ]
     },
     "metadata": {},
     "output_type": "display_data"
    }
   ],
   "source": [
    "%%r_build_ui {\"name\":\"Examine Features\", \"parameters\": {\"num_dims\": {\"type\":\"number\", \"default\":\"5\"}, \"num_features\":{\"type\":\"number\", \"default\":\"5\"}, \"output_var\": {\"hide\": \"True\"} }}\n",
    "\n",
    "ex_feats <- function(dim, nFeat){\n",
    "    n_dims = 1:dim\n",
    "    print(n_dims)\n",
    "    print(pbmc[[\"pca\"]], dims = n_dims, nfeatures = nFeat)\n",
    "    return(\"\")\n",
    "}\n",
    "ex_feats(num_dims, num_features)"
   ]
  },
  {
   "cell_type": "code",
   "execution_count": 14,
   "metadata": {
    "nbtools": {
     "description": "",
     "name": "Vizualize Dimension Loadings",
     "origin": "nbtools.r_support",
     "param_values": {
      "dims": "1:2",
      "num_dims": "2",
      "output_var": ""
     },
     "show_code": false,
     "type": "uibuilder"
    }
   },
   "outputs": [
    {
     "data": {
      "application/vnd.jupyter.widget-view+json": {
       "model_id": "dd86fa0823014eda9b6fd0b19b3d4983",
       "version_major": 2,
       "version_minor": 0
      },
      "text/plain": [
       "UIBuilder(function_import='nbtools._tmp_r_wrapper', name='Vizualize Dimension Loadings', origin='nbtools.r_sup…"
      ]
     },
     "metadata": {},
     "output_type": "display_data"
    }
   ],
   "source": [
    "%%r_build_ui {\"name\":\"Vizualize Dimension Loadings\", \"parameters\": {\"num_dims\": {\"type\":\"string\", \"default\":\"2\"}, \"output_var\": {\"hide\": \"True\"} }}\n",
    "\n",
    "vdl <- function(nDims){\n",
    "    dim_range = c(1,strtoi(nDims))\n",
    "    print(VizDimLoadings(pbmc, dims = dim_range, reduction = \"pca\"))\n",
    "    return(\"\")\n",
    "}\n",
    "vdl(num_dims)"
   ]
  },
  {
   "cell_type": "code",
   "execution_count": 15,
   "metadata": {
    "nbtools": {
     "description": "",
     "name": "Vizualize Dimension Plot",
     "origin": "nbtools.r_support",
     "param_values": {
      "output_var": ""
     },
     "show_code": false,
     "type": "uibuilder"
    }
   },
   "outputs": [
    {
     "data": {
      "application/vnd.jupyter.widget-view+json": {
       "model_id": "e80879b0fc904d7d8cb44c058a89ab31",
       "version_major": 2,
       "version_minor": 0
      },
      "text/plain": [
       "UIBuilder(function_import='nbtools._tmp_r_wrapper', name='Vizualize Dimension Plot', origin='nbtools.r_support…"
      ]
     },
     "metadata": {},
     "output_type": "display_data"
    }
   ],
   "source": [
    "%%r_build_ui {\"name\":\"Vizualize Dimension Plot\", \"parameters\": { \"output_var\": {\"hide\": \"True\"} }}\n",
    "\n",
    "vdp <- function(p1){\n",
    "    \n",
    "    plot(DimPlot(pbmc, reduction = \"pca\"))\n",
    "    return(\"\")\n",
    "}\n",
    "vdp()"
   ]
  },
  {
   "cell_type": "markdown",
   "metadata": {},
   "source": [
    "<p><span style=\"color: #373d3f; font-family: 'Open Sans', arial, sans-serif; font-size: 16px; text-align: justify;\">In particular&nbsp;</span><code style=\"font-size: 14.4px; color: #373d3f; word-break: break-word; border: 1px solid #9ba4a7; border-radius: 4px; background-color: rgba(0, 0, 0, 0.04); white-space: pre; text-align: justify;\">DimHeatmap</code><span style=\"color: #373d3f; font-family: 'Open Sans', arial, sans-serif; font-size: 16px; text-align: justify;\">&nbsp;allows for easy exploration of the primary sources of heterogeneity in a dataset, and can be useful when trying to decide which PCs to include for further downstream analyses. Both cells and features are ordered according to their PCA scores. Setting&nbsp;</span><code style=\"font-size: 14.4px; color: #373d3f; word-break: break-word; border: 1px solid #9ba4a7; border-radius: 4px; background-color: rgba(0, 0, 0, 0.04); white-space: pre; text-align: justify;\">cells</code><span style=\"color: #373d3f; font-family: 'Open Sans', arial, sans-serif; font-size: 16px; text-align: justify;\">&nbsp;to a number plots the &lsquo;extreme&rsquo; cells on both ends of the spectrum, which dramatically speeds plotting for large datasets. Though clearly a supervised analysis, we find this to be a valuable tool for exploring correlated feature sets.</span></p>"
   ]
  },
  {
   "cell_type": "code",
   "execution_count": null,
   "metadata": {},
   "outputs": [],
   "source": [
    "%%R\n",
    "\n",
    "DimHeatmap(pbmc, dims = c(1:1), cells = c, balanced = TRUE)"
   ]
  },
  {
   "cell_type": "code",
   "execution_count": 16,
   "metadata": {
    "nbtools": {
     "description": "",
     "name": "DimHeatMap",
     "origin": "nbtools.r_support",
     "param_values": {
      "cells": "500",
      "dims": "1",
      "num_dims": "1",
      "output_var": ""
     },
     "show_code": false,
     "type": "uibuilder"
    }
   },
   "outputs": [
    {
     "data": {
      "application/vnd.jupyter.widget-view+json": {
       "model_id": "6523ffea1d4c475d9ae46de936ca70f1",
       "version_major": 2,
       "version_minor": 0
      },
      "text/plain": [
       "UIBuilder(function_import='nbtools._tmp_r_wrapper', name='DimHeatMap', origin='nbtools.r_support', params=[{'n…"
      ]
     },
     "metadata": {},
     "output_type": "display_data"
    }
   ],
   "source": [
    "%%r_build_ui {\"name\":\"DimHeatMap\", \"parameters\": { \"num_dims\":{\"type\":\"string\", \"default\": \"1\"}, \"cells\":{\"type\": \"number\",\"default\":\"500\"}, \"output_var\": {\"hide\": \"True\"} }}\n",
    "\n",
    "vdhm <- function(nd,c){    \n",
    "    if (nd == 1){\n",
    "        dim_range = 1\n",
    "    } else {\n",
    "        dim_range = c(1:strtoi(nd))\n",
    "    }\n",
    "    \n",
    "    print(DimHeatmap(pbmc, dims = dim_range, cells = c, balanced = TRUE))\n",
    "    return(pbmc)\n",
    "}\n",
    "vdhm(num_dims, cells)"
   ]
  },
  {
   "cell_type": "code",
   "execution_count": 17,
   "metadata": {
    "nbtools": {
     "description": "",
     "name": "DimHeatMap",
     "origin": "nbtools.r_support",
     "param_values": {
      "cells": "500",
      "dims": "15",
      "num_dims": "15",
      "output_var": ""
     },
     "show_code": true,
     "type": "uibuilder"
    },
    "scrolled": true
   },
   "outputs": [
    {
     "data": {
      "application/vnd.jupyter.widget-view+json": {
       "model_id": "dc2371a93b3e4fa5abccaf17d40e1c62",
       "version_major": 2,
       "version_minor": 0
      },
      "text/plain": [
       "UIBuilder(function_import='nbtools._tmp_r_wrapper', name='DimHeatMap', origin='nbtools.r_support', params=[{'n…"
      ]
     },
     "metadata": {},
     "output_type": "display_data"
    }
   ],
   "source": [
    "%%r_build_ui {\"name\":\"DimHeatMap\", \"parameters\": { \"num_dims\":{\"type\":\"string\", \"default\": \"15\"}, \"cells\":{\"type\": \"number\",\"default\":\"500\"}, \"output_var\": {\"hide\": \"True\"} }}\n",
    "\n",
    "vdhm(num_dims, cells)"
   ]
  },
  {
   "cell_type": "markdown",
   "metadata": {},
   "source": [
    "<h3 id=\"Determine-the-&lsquo;dimensionality&rsquo;-of-the-dataset\" style=\"margin: 20px 0px 10px; font-size: 26px; padding: 0px; font-family: 'ubuntu' , 'tahoma' , 'helvetica neue' , 'helvetica' , 'arial' , sans-serif; color: #333333;\" data-toc-modified-id=\"Determine-the-&lsquo;dimensionality&rsquo;-of-the-dataset-2.1.5\"><a id=\"Determine-the-&lsquo;dimensionality&rsquo;-of-the-dataset-2.1.5\" class=\"toc-mod-link\"></a>Determine the &lsquo;dimensionality&rsquo; of the dataset</h3>\n",
    "<p style=\"margin-bottom: 10px; padding: 0px; color: #373d3f; font-size: 16px; text-align: justify; font-family: 'open sans' , 'arial' , sans-serif;\">To overcome the extensive technical noise in any single feature for scRNA-seq data, Seurat clusters cells based on their PCA scores, with each PC essentially representing a &lsquo;metafeature&rsquo; that combines information across a correlated feature set. The top principal components therefore represent a robust compression of the dataset. However, how many componenets should we choose to include? 10? 20? 100?</p>\n",
    "<p style=\"margin-bottom: 10px; padding: 0px; color: #373d3f; font-size: 16px; text-align: justify; font-family: 'open sans' , 'arial' , sans-serif;\">&nbsp;</p>\n",
    "<p style=\"margin-bottom: 10px; padding: 0px; color: #373d3f; font-size: 16px; text-align: justify; font-family: 'open sans' , 'arial' , sans-serif;\"><strong><span style=\"color: #ba372a;\">REMOVE JACKSTRAW</span></strong></p>\n",
    "<p style=\"margin-bottom: 10px; padding: 0px; color: #373d3f; font-size: 16px; text-align: justify; font-family: 'open sans' , 'arial' , sans-serif;\">In&nbsp;<a style=\"color: #dd4814;\" href=\"http://www.cell.com/abstract/S0092-8674(15)00549-8\" target=\"_blank\" rel=\"noopener\">Macosko&nbsp;<em>et al</em></a>, we implemented a resampling test inspired by the JackStraw procedure. We randomly permute a subset of the data (1% by default) and rerun PCA, constructing a &lsquo;null distribution&rsquo; of feature scores, and repeat this procedure. We identify &lsquo;significant&rsquo; PCs as those who have a strong enrichment of low p-value features.</p>"
   ]
  },
  {
   "cell_type": "markdown",
   "metadata": {},
   "source": [
    "<p><span style=\"color: #373d3f; font-family: 'open sans' , 'arial' , sans-serif; font-size: 16px; text-align: justify;\">An alternative heuristic method generates an &lsquo;Elbow plot&rsquo;: a ranking of principal components based on the percentage of variance explained by each one (</span><code style=\"font-size: 14.4px; color: #373d3f; border: 1px solid #9ba4a7; border-radius: 4px; background-color: rgba(0 , 0 , 0 , 0.04); white-space: pre; text-align: justify;\">ElbowPlot</code><span style=\"color: #373d3f; font-family: 'open sans' , 'arial' , sans-serif; font-size: 16px; text-align: justify;\">&nbsp;function). In this example, we can observe an &lsquo;elbow&rsquo; around PC9-10, suggesting that the majority of true signal is captured in the first 10 PCs.</span></p>"
   ]
  },
  {
   "cell_type": "code",
   "execution_count": 18,
   "metadata": {
    "nbtools": {
     "description": "",
     "name": "Elbow Plot",
     "origin": "nbtools.r_support",
     "param_values": {
      "output_var": ""
     },
     "show_code": false,
     "type": "uibuilder"
    }
   },
   "outputs": [
    {
     "data": {
      "application/vnd.jupyter.widget-view+json": {
       "model_id": "e52362097c654375a1796ab5a0fdcac5",
       "version_major": 2,
       "version_minor": 0
      },
      "text/plain": [
       "UIBuilder(function_import='nbtools._tmp_r_wrapper', name='Elbow Plot', origin='nbtools.r_support', params=[{'n…"
      ]
     },
     "metadata": {},
     "output_type": "display_data"
    }
   ],
   "source": [
    "%%r_build_ui {\"name\":\"Elbow Plot\", \"parameters\": {  \"output_var\": {\"hide\": \"True\"} }}\n",
    "ebp <- function(){\n",
    "    plot(ElbowPlot(pbmc))\n",
    "    return(pbmc)\n",
    "}\n",
    "ebp()"
   ]
  },
  {
   "cell_type": "markdown",
   "metadata": {},
   "source": [
    "<p style=\"margin-bottom: 10px; padding: 0px; color: #373d3f; font-size: 16px; text-align: justify; font-family: 'open sans' , 'arial' , sans-serif;\">dentifying the true dimensionality of a dataset &ndash; can be challenging/uncertain for the user. We therefore suggest these three approaches to consider. The first is more supervised, exploring PCs to determine relevant sources of heterogeneity,</p>\n",
    "<p style=\"margin-bottom: 10px; padding: 0px; color: #373d3f; font-size: 16px; text-align: justify; font-family: 'open sans' , 'arial' , sans-serif;\"><span style=\"color: #ecf0f1; background-color: #000000;\"><strong>[REDACTED]</strong></span></p>\n",
    "<p style=\"margin-bottom: 10px; padding: 0px; color: #373d3f; font-size: 16px; text-align: justify; font-family: 'open sans' , 'arial' , sans-serif;\">&nbsp;</p>\n",
    "<p style=\"margin-bottom: 10px; padding: 0px; color: #373d3f; font-size: 16px; text-align: justify; font-family: 'open sans' , 'arial' , sans-serif;\">. The second implements a statistical test based on a random null model, but is time-consuming for large datasets, and may not return a clear PC cutoff. The third is a heuristic that is commonly used, and can be calculated instantly. In this example, all three approaches yielded similar results, but we might have been justified in choosing anything between PC 7-12 as a cutoff.</p>\n",
    "<p style=\"margin-bottom: 10px; padding: 0px; color: #373d3f; font-size: 16px; text-align: justify; font-family: 'open sans' , 'arial' , sans-serif;\">We chose 10 here, but encourage users to consider the following:</p>\n",
    "<ul style=\"margin-right: 0px; margin-bottom: 10px; margin-left: 35px; padding: 0px; font-size: 16px; color: #333333; font-family: 'open sans' , 'arial' , sans-serif;\">\n",
    "<li style=\"margin-bottom: 5px; text-align: justify;\">Dendritic cell and NK aficionados may recognize that genes strongly associated with PCs 12 and 13 define rare immune subsets (i.e.&nbsp;MZB1 is a marker for plasmacytoid DCs). However, these groups are so rare, they are difficult to distinguish from background noise for a dataset of this size without prior knowledge.</li>\n",
    "<li style=\"margin-bottom: 5px; text-align: justify;\">We encourage users to repeat downstream analyses with a different number of PCs (10, 15, or even 50!). As you will observe, the results often do not differ dramatically.</li>\n",
    "<li style=\"margin-bottom: 5px; text-align: justify;\">We advise users to err on the higher side when choosing this parameter. For example, performing downstream analyses with only 5 PCs does signifcanltly and adversely affect results.</li>\n",
    "</ul>"
   ]
  },
  {
   "cell_type": "markdown",
   "metadata": {},
   "source": [
    "<div class=\"well well-sm\">\n",
    "Export to RDATA file (\"save\")\n",
    "</div>"
   ]
  },
  {
   "cell_type": "code",
   "execution_count": 19,
   "metadata": {
    "nbtools": {
     "description": "",
     "name": "Save preprocessed dataset",
     "origin": "nbtools.r_support",
     "param_values": {
      "file_name": "hnscc_preprocessed.rds",
      "output_var": ""
     },
     "show_code": false,
     "type": "uibuilder"
    }
   },
   "outputs": [
    {
     "data": {
      "application/vnd.jupyter.widget-view+json": {
       "model_id": "7b6533e8fd844a1983f4e956b01027f1",
       "version_major": 2,
       "version_minor": 0
      },
      "text/plain": [
       "UIBuilder(function_import='nbtools._tmp_r_wrapper', name='Save preprocessed dataset', origin='nbtools.r_suppor…"
      ]
     },
     "metadata": {},
     "output_type": "display_data"
    }
   ],
   "source": [
    "%%r_build_ui {\"name\":\"Save preprocessed dataset\", \"parameters\": {  \"file_name\": {\"default\":\"pbmc_preprocessed.rds\"}, \"output_var\": {\"hide\": \"True\"} }}\n",
    "save_it <- function(fileName){\n",
    "    saveRDS(pbmc, file = fileName)\n",
    "    return(pbmc)\n",
    "}\n",
    "save_it(file_name)"
   ]
  },
  {
   "cell_type": "markdown",
   "metadata": {},
   "source": [
    "## Add conclusions/next steps section"
   ]
  },
  {
   "cell_type": "code",
   "execution_count": null,
   "metadata": {},
   "outputs": [],
   "source": []
  },
  {
   "cell_type": "code",
   "execution_count": 1,
   "metadata": {
    "genepattern": {
     "name": "Login",
     "server": "https://beta.genepattern.org/gp",
     "type": "auth"
    }
   },
   "outputs": [
    {
     "data": {
      "application/vnd.jupyter.widget-view+json": {
       "model_id": "93c33888237844a28c1b5597f8e2e0c1",
       "version_major": 2,
       "version_minor": 0
      },
      "text/plain": [
       "GPAuthWidget()"
      ]
     },
     "metadata": {},
     "output_type": "display_data"
    }
   ],
   "source": [
    "# Requires GenePattern Notebook: pip install genepattern-notebook\n",
    "import gp\n",
    "import genepattern\n",
    "\n",
    "# Username and password removed for security reasons.\n",
    "genepattern.display(genepattern.session.register(\"https://beta.genepattern.org/gp\", \"\", \"\"))"
   ]
  },
  {
   "cell_type": "code",
   "execution_count": 2,
   "metadata": {
    "genepattern": {
     "description": "performs clustering on Seurat RDS objects",
     "name": "SeuratClustering",
     "param_values": {
      "input.seurat.rds.file": [],
      "job.cpuCount": null,
      "job.memory": null,
      "job.queue": null,
      "job.walltime": null,
      "maximum_dimension": null,
      "output.filename": null,
      "reduction": null,
      "resolution": null
     },
     "type": "task"
    }
   },
   "outputs": [
    {
     "data": {
      "application/vnd.jupyter.widget-view+json": {
       "model_id": "010605236264405e9fa6b81ae29bb487",
       "version_major": 2,
       "version_minor": 0
      },
      "text/plain": [
       "GPTaskWidget(lsid='urn:lsid:broad.mit.edu:cancer.software.genepattern.module.analysis:00408')"
      ]
     },
     "metadata": {},
     "output_type": "display_data"
    }
   ],
   "source": [
    "seuratclustering_task = gp.GPTask(genepattern.session.get(0), 'urn:lsid:broad.mit.edu:cancer.software.genepattern.module.analysis:00408')\n",
    "seuratclustering_job_spec = seuratclustering_task.make_job_spec()\n",
    "seuratclustering_job_spec.set_parameter(\"input.seurat.rds.file\", \"\")\n",
    "seuratclustering_job_spec.set_parameter(\"output.filename\", \"<input.seurat.rds.file_basename>.clustered\")\n",
    "seuratclustering_job_spec.set_parameter(\"maximum_dimension\", \"10\")\n",
    "seuratclustering_job_spec.set_parameter(\"resolution\", \"0.5\")\n",
    "seuratclustering_job_spec.set_parameter(\"reduction\", \"umap\")\n",
    "seuratclustering_job_spec.set_parameter(\"job.memory\", \"2 Gb\")\n",
    "seuratclustering_job_spec.set_parameter(\"job.queue\", \"gp-new-beta\")\n",
    "seuratclustering_job_spec.set_parameter(\"job.cpuCount\", \"1\")\n",
    "seuratclustering_job_spec.set_parameter(\"job.walltime\", \"02:00:00\")\n",
    "genepattern.display(seuratclustering_task)\n"
   ]
  },
  {
   "cell_type": "code",
   "execution_count": null,
   "metadata": {},
   "outputs": [],
   "source": []
  }
 ],
 "metadata": {
  "kernelspec": {
   "display_name": "Python 3.7",
   "language": "python",
   "name": "python3.7"
  },
  "language_info": {
   "codemirror_mode": {
    "name": "ipython",
    "version": 3
   },
   "file_extension": ".py",
   "mimetype": "text/x-python",
   "name": "python",
   "nbconvert_exporter": "python",
   "pygments_lexer": "ipython3",
   "version": "3.7.3"
  },
  "toc": {
   "base_numbering": 1,
   "nav_menu": {},
   "number_sections": false,
   "sideBar": true,
   "skip_h1_title": false,
   "title_cell": "Table of Contents",
   "title_sidebar": "Contents",
   "toc_cell": false,
   "toc_position": {
    "height": "calc(100% - 180px)",
    "left": "10px",
    "top": "150px",
    "width": "277.074px"
   },
   "toc_section_display": true,
   "toc_window_display": false
  }
 },
 "nbformat": 4,
 "nbformat_minor": 2
}
